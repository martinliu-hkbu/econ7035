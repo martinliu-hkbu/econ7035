{
  "cells": [
    {
      "cell_type": "markdown",
      "id": "intro",
      "metadata": {},
      "source": [
        "# Fill-in-the-Blank Exercise: Data Splitting & Preprocessing\n",
        "\n",
        "In this exercise, complete the blanks (_____). Your task is to:\n",
        "\n",
        "1. Import the necessary libraries.\n",
        "2. Simulate sample ice cream sales data.\n",
        "3. Split the data into training and test sets.\n",
        "4. Scale the training data using `fit_transform` and the test data using `transform`.\n",
        "\n",
        "Fill in the blanks where indicated."
      ]
    },
    {
      "cell_type": "code",
      "id": "import_libraries",
      "metadata": {},
      "source": [
        "# Fill in the blanks to import libraries\n",
        "import _____ as np\n",
        "import _____ as pd\n",
        "import matplotlib.pyplot as plt\n",
        "\n",
        "from datetime import datetime, timedelta\n",
        "from sklearn.model_selection import train_test_split\n",
        "from sklearn.preprocessing import _____\n",
        "\n",
        "print(\"Libraries imported!\")"
      ],
      "execution_count": null,
      "outputs": []
    },
    {
      "cell_type": "code",
      "id": "simulate_data",
      "metadata": {},
      "source": [
        "# Fill in the blanks to simulate 90 days of ice cream sales data\n",
        "np.random.seed(42)\n",
        "n_days = 90\n",
        "start_date = datetime(2024, 1, 1)\n",
        "dates = [start_date + timedelta(days=i) for i in range(_____)]  # Hint: use n_days\n",
        "\n",
        "temperatures = np.random.normal(loc=25, scale=3, size=_____).round(1)  # Use n_days\n",
        "promotions = np.random.choice([0, 1], size=_____, p=[0.7, 0.3])  # Use n_days\n",
        "\n",
        "# Create sales using the formula: 300 + 12 * temperature + 60 * promotion + noise\n",
        "sales = 300 + 12 * temperatures + 60 * promotions + np.random.normal(0, 20, size=_____)\n",
        "\n",
        "df = pd.DataFrame({\n",
        "    'date': dates,\n",
        "    'temperature': temperatures,\n",
        "    'promotion': promotions,\n",
        "    'sales': sales.round().astype(int)\n",
        "})\n",
        "\n",
        "print(df.head())\n",
        "print(\"Data simulation complete!\")"
      ],
      "execution_count": null,
      "outputs": []
    },
    {
      "cell_type": "code",
      "id": "data_split_scale",
      "metadata": {},
      "source": [
        "# Fill in the blanks to split data and apply StandardScaler\n",
        "# Split the data into features (X) and target (y)\n",
        "X = df[['temperature', 'promotion']]\n",
        "y = df['sales']\n",
        "\n",
        "# Split data into training and test sets (80% training, 20% test)\n",
        "X_train, X_test, y_train, y_test = train_test_split(X, y, test_size=_____, random_state=42)\n",
        "\n",
        "# Initialize StandardScaler\n",
        "scaler = _____()\n",
        "\n",
        "# Scale the 'temperature' column on the training set (use fit_transform) and test set (use transform)\n",
        "X_train_scaled = X_train.copy()\n",
        "X_train_scaled['temperature'] = scaler.fit_transform(X_train[['temperature']])\n",
        "\n",
        "X_test_scaled = X_test.copy()\n",
        "X_test_scaled['temperature'] = scaler._____(X_test[['temperature']])\n",
        "\n",
        "print(\"Data splitting and scaling complete!\")\n",
        "print(X_train_scaled.head())"
      ],
      "execution_count": null,
      "outputs": []
    },
    {
      "cell_type": "markdown",
      "id": "reflection",
      "metadata": {},
      "source": [
        "## Reflection\n",
        "\n",
        "In your own words, explain why it is important to use `fit_transform` on the training data and only `transform` on the test data."
      ]
    },
    {
      "cell_type": "code",
      "id": "reflection_answer",
      "metadata": {},
      "source": [
        "# Write your reflection below (feel free to use a comment or print statement)\n",
        "print(\"Reflection: ___________________________\")"
      ],
      "execution_count": null,
      "outputs": []
    }
  ],
  "metadata": {
    "kernelspec": {
      "display_name": "Python 3",
      "language": "python",
      "name": "python3"
    },
    "language_info": {
      "name": "python",
      "version": "3.x"
    }
  },
  "nbformat": 4,
  "nbformat_minor": 5
}
